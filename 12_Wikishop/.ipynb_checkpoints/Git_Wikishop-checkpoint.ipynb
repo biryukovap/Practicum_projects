{
 "cells": [
  {
   "cell_type": "markdown",
   "metadata": {},
   "source": [
    "# Проект для «Викишоп»\n",
    "\n",
    "**Контекст**\n",
    "\n",
    "Интернет-магазин «████████» запускает новый сервис. Теперь пользователи могут редактировать и дополнять описания товаров, как в вики-сообществах. То есть клиенты предлагают свои правки и комментируют изменения других. Магазину нужен инструмент, который будет искать токсичные комментарии и отправлять их на модерацию. \n",
    "\n",
    "**Задача**\n",
    "\n",
    "Обучить модель классифицировать комментарии на позитивные и негативные. В распоряжении набор данных с разметкой о токсичности правок. Метрика качества *F1* должна быть не меньше 0.75. \n",
    "\n",
    "**Этапы выполнения проекта**\n",
    "\n",
    "1. Загрузка и подготовка данных.\n",
    "2. Обучение моделей. \n",
    "3. Выводы.\n",
    "\n",
    "**Описание данных**\n",
    "\n",
    "Данные находятся в файле `████████.csv`. Столбец *text* в нём содержит текст комментария, а *toxic* — целевой признак."
   ]
  },
  {
   "cell_type": "markdown",
   "metadata": {
    "toc": true
   },
   "source": [
    "<h1>Содержание<span class=\"tocSkip\"></span></h1>\n",
    "<div class=\"toc\"><ul class=\"toc-item\"><li><span><a href=\"#Подготовка\" data-toc-modified-id=\"Подготовка-1\"><span class=\"toc-item-num\">1&nbsp;&nbsp;</span>Подготовка</a></span><ul class=\"toc-item\"><li><span><a href=\"#Импорт-данных-и-просмотр\" data-toc-modified-id=\"Импорт-данных-и-просмотр-1.1\"><span class=\"toc-item-num\">1.1&nbsp;&nbsp;</span>Импорт данных и просмотр</a></span></li><li><span><a href=\"#Токенизация-и-лемматизация\" data-toc-modified-id=\"Токенизация-и-лемматизация-1.2\"><span class=\"toc-item-num\">1.2&nbsp;&nbsp;</span>Токенизация и лемматизация</a></span></li><li><span><a href=\"#Разбиение-на-выборки:-тренировочную,-валидационную-и-тестовую\" data-toc-modified-id=\"Разбиение-на-выборки:-тренировочную,-валидационную-и-тестовую-1.3\"><span class=\"toc-item-num\">1.3&nbsp;&nbsp;</span>Разбиение на выборки: тренировочную, валидационную и тестовую</a></span></li><li><span><a href=\"#Векторизация-с-помощью-TfidfVectorizer()\" data-toc-modified-id=\"Векторизация-с-помощью-TfidfVectorizer()-1.4\"><span class=\"toc-item-num\">1.4&nbsp;&nbsp;</span>Векторизация с помощью TfidfVectorizer()</a></span></li></ul></li><li><span><a href=\"#Обучение\" data-toc-modified-id=\"Обучение-2\"><span class=\"toc-item-num\">2&nbsp;&nbsp;</span>Обучение</a></span><ul class=\"toc-item\"><li><span><a href=\"#Логистическая-регрессия\" data-toc-modified-id=\"Логистическая-регрессия-2.1\"><span class=\"toc-item-num\">2.1&nbsp;&nbsp;</span>Логистическая регрессия</a></span></li><li><span><a href=\"#Random-Forest\" data-toc-modified-id=\"Random-Forest-2.2\"><span class=\"toc-item-num\">2.2&nbsp;&nbsp;</span>Random Forest</a></span></li><li><span><a href=\"#SVM\" data-toc-modified-id=\"SVM-2.3\"><span class=\"toc-item-num\">2.3&nbsp;&nbsp;</span>SVM</a></span></li></ul></li><li><span><a href=\"#Выводы-и-применение-лучшей-модели-к-тестовым-данным\" data-toc-modified-id=\"Выводы-и-применение-лучшей-модели-к-тестовым-данным-3\"><span class=\"toc-item-num\">3&nbsp;&nbsp;</span>Выводы и применение лучшей модели к тестовым данным</a></span></li></ul></div>"
   ]
  },
  {
   "cell_type": "markdown",
   "metadata": {},
   "source": [
    "## Подготовка"
   ]
  },
  {
   "cell_type": "markdown",
   "metadata": {},
   "source": [
    "### Импорт данных и просмотр"
   ]
  },
  {
   "cell_type": "code",
   "execution_count": 1,
   "metadata": {},
   "outputs": [],
   "source": [
    "#импорт библиотек\n",
    "import warnings\n",
    "warnings.filterwarnings('ignore')\n",
    "\n",
    "#подготовка данных\n",
    "import pandas as pd\n",
    "import numpy as np\n",
    "import seaborn as sns\n",
    "import matplotlib.pyplot as plt\n",
    "\n",
    "import spacy\n",
    "import re\n",
    "from sklearn.feature_extraction.text import TfidfVectorizer\n",
    "\n",
    "from sklearn.model_selection import train_test_split\n",
    "from sklearn.model_selection import GridSearchCV\n",
    "\n",
    "from sklearn.linear_model import LogisticRegression\n",
    "from sklearn.ensemble import RandomForestClassifier\n",
    "from sklearn.svm import SVC\n",
    "\n",
    "from sklearn.metrics import f1_score"
   ]
  },
  {
   "cell_type": "code",
   "execution_count": 2,
   "metadata": {},
   "outputs": [],
   "source": [
    "# функция для импорта\n",
    "\n",
    "def data_import(data):\n",
    "    pth1 = (data + '.csv')\n",
    "    pth2 = ('████████' + data + '.csv')\n",
    "    try:\n",
    "        df = pd.read_csv(pth1, index_col='Unnamed: 0')\n",
    "    except:\n",
    "        df = pd.read_csv(pth2, index_col='Unnamed: 0')\n",
    "    return df"
   ]
  },
  {
   "cell_type": "code",
   "execution_count": 3,
   "metadata": {},
   "outputs": [],
   "source": [
    "data = data_import('████')"
   ]
  },
  {
   "cell_type": "code",
   "execution_count": 4,
   "metadata": {
    "scrolled": true
   },
   "outputs": [
    {
     "name": "stdout",
     "output_type": "stream",
     "text": [
      "Размер базы комментариев: 159292\n"
     ]
    },
    {
     "data": {
      "text/html": [
       "<div>\n",
       "<style scoped>\n",
       "    .dataframe tbody tr th:only-of-type {\n",
       "        vertical-align: middle;\n",
       "    }\n",
       "\n",
       "    .dataframe tbody tr th {\n",
       "        vertical-align: top;\n",
       "    }\n",
       "\n",
       "    .dataframe thead th {\n",
       "        text-align: right;\n",
       "    }\n",
       "</style>\n",
       "<table border=\"1\" class=\"dataframe\">\n",
       "  <thead>\n",
       "    <tr style=\"text-align: right;\">\n",
       "      <th></th>\n",
       "      <th>text</th>\n",
       "      <th>toxic</th>\n",
       "    </tr>\n",
       "  </thead>\n",
       "  <tbody>\n",
       "    <tr>\n",
       "      <th>0</th>\n",
       "      <td>Explanation\\nWhy the edits made under my usern...</td>\n",
       "      <td>0</td>\n",
       "    </tr>\n",
       "    <tr>\n",
       "      <th>1</th>\n",
       "      <td>D'aww! He matches this background colour I'm s...</td>\n",
       "      <td>0</td>\n",
       "    </tr>\n",
       "    <tr>\n",
       "      <th>2</th>\n",
       "      <td>Hey man, I'm really not trying to edit war. It...</td>\n",
       "      <td>0</td>\n",
       "    </tr>\n",
       "    <tr>\n",
       "      <th>3</th>\n",
       "      <td>\"\\nMore\\nI can't make any real suggestions on ...</td>\n",
       "      <td>0</td>\n",
       "    </tr>\n",
       "    <tr>\n",
       "      <th>4</th>\n",
       "      <td>You, sir, are my hero. Any chance you remember...</td>\n",
       "      <td>0</td>\n",
       "    </tr>\n",
       "  </tbody>\n",
       "</table>\n",
       "</div>"
      ],
      "text/plain": [
       "                                                text  toxic\n",
       "0  Explanation\\nWhy the edits made under my usern...      0\n",
       "1  D'aww! He matches this background colour I'm s...      0\n",
       "2  Hey man, I'm really not trying to edit war. It...      0\n",
       "3  \"\\nMore\\nI can't make any real suggestions on ...      0\n",
       "4  You, sir, are my hero. Any chance you remember...      0"
      ]
     },
     "execution_count": 4,
     "metadata": {},
     "output_type": "execute_result"
    }
   ],
   "source": [
    "#смотрим на данные\n",
    "print(f'Размер базы комментариев: {len(data)}')\n",
    "data.head()"
   ]
  },
  {
   "cell_type": "code",
   "execution_count": 5,
   "metadata": {},
   "outputs": [
    {
     "data": {
      "image/png": "[encoded data removed]",
      "text/plain": [
       "<Figure size 1200x800 with 1 Axes>"
      ]
     },
     "metadata": {},
     "output_type": "display_data"
    }
   ],
   "source": [
    "plt.figure(figsize=(12, 8))\n",
    "sns.set_theme(style=\"whitegrid\")\n",
    "\n",
    "data.toxic.value_counts(normalize=True).plot(kind='bar', \n",
    "                                             color=['#4C72B0', '#55A868'], \n",
    "                                             alpha=0.9, \n",
    "                                             edgecolor='black')\n",
    "\n",
    "plt.title('Распределение токсичных и нетоксичных комментариев', fontsize=22, fontweight='bold', color=\"#333333\")\n",
    "plt.ylabel('Доля', fontsize=18)\n",
    "plt.xlabel('Токсичность', fontsize=18)\n",
    "\n",
    "plt.xticks(ticks=[0, 1], labels=['Нетоксичные', 'Токсичные'], fontsize=16)\n",
    "plt.grid(True, linestyle='--', alpha=0.6)\n",
    "sns.despine()\n",
    "plt.show()"
   ]
  },
  {
   "cell_type": "code",
   "execution_count": 6,
   "metadata": {},
   "outputs": [
    {
     "name": "stdout",
     "output_type": "stream",
     "text": [
      "Доля токсичных комментариев: 10.2%\n"
     ]
    }
   ],
   "source": [
    "print(f'Доля токсичных комментариев: {len(data.query(\"toxic == 1\"))/len(data):.1%}')"
   ]
  },
  {
   "cell_type": "markdown",
   "metadata": {},
   "source": [
    "Видим, что есть дисбаланс классов, но он органический – токсичных твитов всегда будет меньше, чем нетоксичных. Поэтому позже при разделении данных на тренировочную и тестовую выборки мы будем использовать стратификацию.\n",
    "\n",
    "Сначала лемматизируем тексты."
   ]
  },
  {
   "cell_type": "markdown",
   "metadata": {},
   "source": [
    "### Токенизация и лемматизация"
   ]
  },
  {
   "cell_type": "raw",
   "metadata": {},
   "source": [
    "lemmatizer = spacy.load('en_core_web_sm')\n",
    "\n",
    "def preprocess_text(comment):\n",
    "    #токенизация\n",
    "    comment = re.sub(r'\\n', ' ', comment) #замена переносов на пробел\n",
    "    comment = re.sub(r':', ' ', comment) #замена двоеточий на пробел\n",
    "    comment = re.sub(r'[^a-zA-z ]', '', comment) \n",
    "    comment = comment.lower().strip() # перевод в нижний регистр и удаление лишних пробелов\n",
    "    \n",
    "    #лемматизация\n",
    "    text = lemmatizer(comment)\n",
    "    return \" \".join([token.lemma_ for token in text if not token.is_stop and not token.is_punct and len(token) > 1])"
   ]
  },
  {
   "cell_type": "raw",
   "metadata": {},
   "source": [
    "data['lemmatized'] = data['text'].apply(preprocess_text)"
   ]
  },
  {
   "cell_type": "code",
   "execution_count": 9,
   "metadata": {},
   "outputs": [],
   "source": [
    "#сохраняем в файл, чтобы при новом запуске тетрадки не проводить лемматизацию заново\n",
    "data.to_csv('████.csv')"
   ]
  },
  {
   "cell_type": "code",
   "execution_count": 10,
   "metadata": {},
   "outputs": [],
   "source": [
    "data_lemm = data_import('████')"
   ]
  },
  {
   "cell_type": "code",
   "execution_count": 11,
   "metadata": {},
   "outputs": [],
   "source": [
    "# удалим пропуски\n",
    "data_lemm = data_lemm.dropna()"
   ]
  },
  {
   "cell_type": "code",
   "execution_count": 12,
   "metadata": {
    "scrolled": true
   },
   "outputs": [
    {
     "data": {
      "text/html": [
       "<div>\n",
       "<style scoped>\n",
       "    .dataframe tbody tr th:only-of-type {\n",
       "        vertical-align: middle;\n",
       "    }\n",
       "\n",
       "    .dataframe tbody tr th {\n",
       "        vertical-align: top;\n",
       "    }\n",
       "\n",
       "    .dataframe thead th {\n",
       "        text-align: right;\n",
       "    }\n",
       "</style>\n",
       "<table border=\"1\" class=\"dataframe\">\n",
       "  <thead>\n",
       "    <tr style=\"text-align: right;\">\n",
       "      <th></th>\n",
       "      <th>text</th>\n",
       "      <th>toxic</th>\n",
       "      <th>lemmatized</th>\n",
       "    </tr>\n",
       "  </thead>\n",
       "  <tbody>\n",
       "    <tr>\n",
       "      <th>6</th>\n",
       "      <td>COCKSUCKER BEFORE YOU PISS AROUND ON MY WORK</td>\n",
       "      <td>1</td>\n",
       "      <td>cocksucker piss work</td>\n",
       "    </tr>\n",
       "    <tr>\n",
       "      <th>12</th>\n",
       "      <td>Hey... what is it..\\n@ | talk .\\nWhat is it......</td>\n",
       "      <td>1</td>\n",
       "      <td>hey    talk exclusive group wp talibanswho goo...</td>\n",
       "    </tr>\n",
       "    <tr>\n",
       "      <th>16</th>\n",
       "      <td>Bye! \\n\\nDon't look, come or think of comming ...</td>\n",
       "      <td>1</td>\n",
       "      <td>bye    not look come think comme tosser</td>\n",
       "    </tr>\n",
       "    <tr>\n",
       "      <th>42</th>\n",
       "      <td>You are gay or antisemmitian? \\n\\nArchangel WH...</td>\n",
       "      <td>1</td>\n",
       "      <td>gay antisemmitian    archangel white tiger meo...</td>\n",
       "    </tr>\n",
       "    <tr>\n",
       "      <th>43</th>\n",
       "      <td>FUCK YOUR FILTHY MOTHER IN THE ASS, DRY!</td>\n",
       "      <td>1</td>\n",
       "      <td>fuck filthy mother ass dry</td>\n",
       "    </tr>\n",
       "  </tbody>\n",
       "</table>\n",
       "</div>"
      ],
      "text/plain": [
       "                                                 text  toxic  \\\n",
       "6        COCKSUCKER BEFORE YOU PISS AROUND ON MY WORK      1   \n",
       "12  Hey... what is it..\\n@ | talk .\\nWhat is it......      1   \n",
       "16  Bye! \\n\\nDon't look, come or think of comming ...      1   \n",
       "42  You are gay or antisemmitian? \\n\\nArchangel WH...      1   \n",
       "43           FUCK YOUR FILTHY MOTHER IN THE ASS, DRY!      1   \n",
       "\n",
       "                                           lemmatized  \n",
       "6                                cocksucker piss work  \n",
       "12  hey    talk exclusive group wp talibanswho goo...  \n",
       "16            bye    not look come think comme tosser  \n",
       "42  gay antisemmitian    archangel white tiger meo...  \n",
       "43                         fuck filthy mother ass dry  "
      ]
     },
     "metadata": {},
     "output_type": "display_data"
    },
    {
     "data": {
      "text/html": [
       "<div>\n",
       "<style scoped>\n",
       "    .dataframe tbody tr th:only-of-type {\n",
       "        vertical-align: middle;\n",
       "    }\n",
       "\n",
       "    .dataframe tbody tr th {\n",
       "        vertical-align: top;\n",
       "    }\n",
       "\n",
       "    .dataframe thead th {\n",
       "        text-align: right;\n",
       "    }\n",
       "</style>\n",
       "<table border=\"1\" class=\"dataframe\">\n",
       "  <thead>\n",
       "    <tr style=\"text-align: right;\">\n",
       "      <th></th>\n",
       "      <th>text</th>\n",
       "      <th>toxic</th>\n",
       "      <th>lemmatized</th>\n",
       "    </tr>\n",
       "  </thead>\n",
       "  <tbody>\n",
       "    <tr>\n",
       "      <th>159446</th>\n",
       "      <td>\":::::And for the second time of asking, when ...</td>\n",
       "      <td>0</td>\n",
       "      <td>second time ask view completely contradict cov...</td>\n",
       "    </tr>\n",
       "    <tr>\n",
       "      <th>159447</th>\n",
       "      <td>You should be ashamed of yourself \\n\\nThat is ...</td>\n",
       "      <td>0</td>\n",
       "      <td>ashamed    horrible thing talk page</td>\n",
       "    </tr>\n",
       "    <tr>\n",
       "      <th>159448</th>\n",
       "      <td>Spitzer \\n\\nUmm, theres no actual article for ...</td>\n",
       "      <td>0</td>\n",
       "      <td>spitzer    umm actual article prostitution rin...</td>\n",
       "    </tr>\n",
       "    <tr>\n",
       "      <th>159449</th>\n",
       "      <td>And it looks like it was actually you who put ...</td>\n",
       "      <td>0</td>\n",
       "      <td>look like actually speedy version delete look</td>\n",
       "    </tr>\n",
       "    <tr>\n",
       "      <th>159450</th>\n",
       "      <td>\"\\nAnd ... I really don't think you understand...</td>\n",
       "      <td>0</td>\n",
       "      <td>not think understand come idea bad right away ...</td>\n",
       "    </tr>\n",
       "  </tbody>\n",
       "</table>\n",
       "</div>"
      ],
      "text/plain": [
       "                                                     text  toxic  \\\n",
       "159446  \":::::And for the second time of asking, when ...      0   \n",
       "159447  You should be ashamed of yourself \\n\\nThat is ...      0   \n",
       "159448  Spitzer \\n\\nUmm, theres no actual article for ...      0   \n",
       "159449  And it looks like it was actually you who put ...      0   \n",
       "159450  \"\\nAnd ... I really don't think you understand...      0   \n",
       "\n",
       "                                               lemmatized  \n",
       "159446  second time ask view completely contradict cov...  \n",
       "159447                ashamed    horrible thing talk page  \n",
       "159448  spitzer    umm actual article prostitution rin...  \n",
       "159449      look like actually speedy version delete look  \n",
       "159450  not think understand come idea bad right away ...  "
      ]
     },
     "metadata": {},
     "output_type": "display_data"
    }
   ],
   "source": [
    "#посмотрим, что получилось\n",
    "display(data_lemm.query('toxic == 1').head())\n",
    "display(data_lemm.tail())"
   ]
  },
  {
   "cell_type": "markdown",
   "metadata": {},
   "source": [
    "### Разбиение на выборки: тренировочную, валидационную и тестовую\n",
    "Тестовую выборку сделаем без стратификации по таргету, чтобы эксперимент был чистым. А вот тренировочную и валидационную стратифицируем."
   ]
  },
  {
   "cell_type": "code",
   "execution_count": 13,
   "metadata": {},
   "outputs": [],
   "source": [
    "X_train, X_test, y_train, y_test = train_test_split(data_lemm['lemmatized'], data_lemm['toxic'], test_size=0.25, random_state=42)\n",
    "\n",
    "X_train, X_valid, y_train, y_valid = train_test_split(X_train, y_train, test_size=0.25, random_state=42, stratify=y_train)"
   ]
  },
  {
   "cell_type": "markdown",
   "metadata": {},
   "source": [
    "### Векторизация с помощью TfidfVectorizer()"
   ]
  },
  {
   "cell_type": "code",
   "execution_count": 14,
   "metadata": {
    "scrolled": true
   },
   "outputs": [],
   "source": [
    "vectorizer = TfidfVectorizer()\n",
    "tf_idf_train = vectorizer.fit_transform(X_train)\n",
    "tf_idf_valid = vectorizer.transform(X_valid)\n",
    "tf_idf_test = vectorizer.transform(X_test)"
   ]
  },
  {
   "cell_type": "markdown",
   "metadata": {},
   "source": [
    "## Обучение"
   ]
  },
  {
   "cell_type": "markdown",
   "metadata": {},
   "source": [
    "### Логистическая регрессия"
   ]
  },
  {
   "cell_type": "code",
   "execution_count": 15,
   "metadata": {
    "scrolled": false
   },
   "outputs": [],
   "source": [
    "model_lr = LogisticRegression(random_state=42, solver='saga', penalty='l1')\n",
    "\n",
    "model_lr.fit(tf_idf_train, y_train)\n",
    "valid_predictions_lr = model_lr.predict(tf_idf_valid)"
   ]
  },
  {
   "cell_type": "code",
   "execution_count": 16,
   "metadata": {},
   "outputs": [
    {
     "data": {
      "text/plain": [
       "0.7587242026266416"
      ]
     },
     "execution_count": 16,
     "metadata": {},
     "output_type": "execute_result"
    }
   ],
   "source": [
    "f1_score(y_valid, valid_predictions_lr)"
   ]
  },
  {
   "cell_type": "markdown",
   "metadata": {},
   "source": [
    "### Random Forest"
   ]
  },
  {
   "cell_type": "code",
   "execution_count": 17,
   "metadata": {},
   "outputs": [],
   "source": [
    "model_forest = RandomForestClassifier(n_estimators=500, random_state=42)\n",
    "\n",
    "model_forest.fit(tf_idf_train, y_train)\n",
    "valid_predictions_forest = model_forest.predict(tf_idf_valid)"
   ]
  },
  {
   "cell_type": "code",
   "execution_count": 18,
   "metadata": {},
   "outputs": [
    {
     "data": {
      "text/plain": [
       "0.7093140213236774"
      ]
     },
     "execution_count": 18,
     "metadata": {},
     "output_type": "execute_result"
    }
   ],
   "source": [
    "f1_score(y_valid, valid_predictions_forest)"
   ]
  },
  {
   "cell_type": "markdown",
   "metadata": {},
   "source": [
    "### SVM"
   ]
  },
  {
   "cell_type": "code",
   "execution_count": 19,
   "metadata": {},
   "outputs": [],
   "source": [
    "model_svc = SVC(kernel='rbf',\n",
    "                shrinking=True, \n",
    "                class_weight='balanced',\n",
    "                random_state=42)\n",
    "\n",
    "model_svc.fit(tf_idf_train, y_train)\n",
    "valid_predictions_svc = model_svc.predict(tf_idf_valid)"
   ]
  },
  {
   "cell_type": "code",
   "execution_count": 20,
   "metadata": {},
   "outputs": [
    {
     "data": {
      "text/plain": [
       "0.7833775419982316"
      ]
     },
     "execution_count": 20,
     "metadata": {},
     "output_type": "execute_result"
    }
   ],
   "source": [
    "f1_score(y_valid, valid_predictions_svc)"
   ]
  },
  {
   "cell_type": "markdown",
   "metadata": {},
   "source": [
    "## Выводы и применение лучшей модели к тестовым данным"
   ]
  },
  {
   "cell_type": "markdown",
   "metadata": {},
   "source": [
    "Лучше всего получилось предсказать тональность методом опорных векторов с радиальным базисным ядром. Применим ее к тестовым даннным."
   ]
  },
  {
   "cell_type": "code",
   "execution_count": 21,
   "metadata": {},
   "outputs": [],
   "source": [
    "test_predictions_svc = model_svc.predict(tf_idf_test)"
   ]
  },
  {
   "cell_type": "code",
   "execution_count": 22,
   "metadata": {},
   "outputs": [
    {
     "data": {
      "text/plain": [
       "0.7821529364332751"
      ]
     },
     "execution_count": 22,
     "metadata": {},
     "output_type": "execute_result"
    }
   ],
   "source": [
    "f1_score(y_test, test_predictions_svc)"
   ]
  },
  {
   "cell_type": "markdown",
   "metadata": {},
   "source": [
    "Достигнули целевой показатель! В **78% случаев** модель верно предсказывает тональность.\n",
    "\n",
    "**Финализируем, что мы сделали для магазина \"Викишоп\":**\n",
    "1. загрузили данные\n",
    "2. посмотрели на структуру распределения целевого признака\n",
    "3. подготовили данные для создания матрицы TF-IDF\n",
    "4. разделили данные на тренировочную, валидационную и тестовую выборки\n",
    "5. обучили и проверили на валидационных выборках модели логистической регрессии, random forest и опорных векторов и выбрали лучшую – SVM с результатом в 78,3%\n",
    "6. применили лучшую модель к тестовым данным и получили точность предсказаний 78,2%"
   ]
  }
 ],
 "metadata": {
  "hide_input": false,
  "kernelspec": {
   "display_name": "Python 3 (ipykernel)",
   "language": "python",
   "name": "python3"
  },
  "language_info": {
   "codemirror_mode": {
    "name": "ipython",
    "version": 3
   },
   "file_extension": ".py",
   "mimetype": "text/x-python",
   "name": "python",
   "nbconvert_exporter": "python",
   "pygments_lexer": "ipython3",
   "version": "3.9.15"
  },
  "toc": {
   "base_numbering": 1,
   "nav_menu": {},
   "number_sections": true,
   "sideBar": true,
   "skip_h1_title": true,
   "title_cell": "Содержание",
   "title_sidebar": "Contents",
   "toc_cell": true,
   "toc_position": {
    "height": "calc(100% - 180px)",
    "left": "10px",
    "top": "150px",
    "width": "302.383px"
   },
   "toc_section_display": true,
   "toc_window_display": true
  }
 },
 "nbformat": 4,
 "nbformat_minor": 2
}
